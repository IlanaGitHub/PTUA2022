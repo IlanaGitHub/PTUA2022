{
 "cells": [
  {
   "cell_type": "code",
   "execution_count": 1,
   "id": "bb5fe491",
   "metadata": {},
   "outputs": [
    {
     "name": "stdout",
     "output_type": "stream",
     "text": [
      "42\n"
     ]
    }
   ],
   "source": [
    "n=42\n",
    "print (n)"
   ]
  },
  {
   "cell_type": "code",
   "execution_count": 2,
   "id": "b9d4e6c1",
   "metadata": {},
   "outputs": [
    {
     "ename": "SyntaxError",
     "evalue": "cannot assign to literal (Temp/ipykernel_16836/1956984606.py, line 1)",
     "output_type": "error",
     "traceback": [
      "\u001b[1;36m  File \u001b[1;32m\"C:\\Users\\ilaze\\AppData\\Local\\Temp/ipykernel_16836/1956984606.py\"\u001b[1;36m, line \u001b[1;32m1\u001b[0m\n\u001b[1;33m    42=n\u001b[0m\n\u001b[1;37m    ^\u001b[0m\n\u001b[1;31mSyntaxError\u001b[0m\u001b[1;31m:\u001b[0m cannot assign to literal\n"
     ]
    }
   ],
   "source": [
    "42=n"
   ]
  },
  {
   "cell_type": "code",
   "execution_count": 4,
   "id": "7e67b0eb",
   "metadata": {},
   "outputs": [
    {
     "name": "stdout",
     "output_type": "stream",
     "text": [
      "1\n",
      "1\n"
     ]
    }
   ],
   "source": [
    "x = y = 1\n",
    "print (x)\n",
    "print (y)"
   ]
  },
  {
   "cell_type": "code",
   "execution_count": 5,
   "id": "13fadf10",
   "metadata": {},
   "outputs": [
    {
     "name": "stdout",
     "output_type": "stream",
     "text": [
      "1\n",
      "1\n"
     ]
    }
   ],
   "source": [
    "x = y = 1;\n",
    "print (x);\n",
    "print (y);"
   ]
  },
  {
   "cell_type": "code",
   "execution_count": 6,
   "id": "398c3f0d",
   "metadata": {},
   "outputs": [
    {
     "ename": "SyntaxError",
     "evalue": "invalid syntax (Temp/ipykernel_16836/1440029040.py, line 2)",
     "output_type": "error",
     "traceback": [
      "\u001b[1;36m  File \u001b[1;32m\"C:\\Users\\ilaze\\AppData\\Local\\Temp/ipykernel_16836/1440029040.py\"\u001b[1;36m, line \u001b[1;32m2\u001b[0m\n\u001b[1;33m    print (x).\u001b[0m\n\u001b[1;37m              ^\u001b[0m\n\u001b[1;31mSyntaxError\u001b[0m\u001b[1;31m:\u001b[0m invalid syntax\n"
     ]
    }
   ],
   "source": [
    "x = y = 1.\n",
    "print (x).\n",
    "print (y)."
   ]
  },
  {
   "cell_type": "code",
   "execution_count": 7,
   "id": "c494f27a",
   "metadata": {},
   "outputs": [
    {
     "ename": "NameError",
     "evalue": "name 'xy' is not defined",
     "output_type": "error",
     "traceback": [
      "\u001b[1;31m---------------------------------------------------------------------------\u001b[0m",
      "\u001b[1;31mNameError\u001b[0m                                 Traceback (most recent call last)",
      "\u001b[1;32m~\\AppData\\Local\\Temp/ipykernel_16836/3424147140.py\u001b[0m in \u001b[0;36m<module>\u001b[1;34m\u001b[0m\n\u001b[1;32m----> 1\u001b[1;33m \u001b[0mxy\u001b[0m\u001b[1;33m\u001b[0m\u001b[1;33m\u001b[0m\u001b[0m\n\u001b[0m",
      "\u001b[1;31mNameError\u001b[0m: name 'xy' is not defined"
     ]
    }
   ],
   "source": [
    "xy"
   ]
  },
  {
   "cell_type": "code",
   "execution_count": 8,
   "id": "7a5008c0",
   "metadata": {},
   "outputs": [
    {
     "data": {
      "text/plain": [
       "1"
      ]
     },
     "execution_count": 8,
     "metadata": {},
     "output_type": "execute_result"
    }
   ],
   "source": [
    "x*y"
   ]
  },
  {
   "cell_type": "code",
   "execution_count": 9,
   "id": "5b1da44b",
   "metadata": {},
   "outputs": [
    {
     "data": {
      "text/plain": [
       "523.5999999999999"
      ]
     },
     "execution_count": 9,
     "metadata": {},
     "output_type": "execute_result"
    }
   ],
   "source": [
    "4/3*3.1416*5**3"
   ]
  },
  {
   "cell_type": "code",
   "execution_count": 10,
   "id": "2ff18b2e",
   "metadata": {},
   "outputs": [
    {
     "data": {
      "text/plain": [
       "945.4499999999999"
      ]
     },
     "execution_count": 10,
     "metadata": {},
     "output_type": "execute_result"
    }
   ],
   "source": [
    "((24.95*0.6)*60)+(0.75*59)+3"
   ]
  },
  {
   "cell_type": "code",
   "execution_count": 11,
   "id": "2e35f479",
   "metadata": {},
   "outputs": [
    {
     "data": {
      "text/plain": [
       "945.4499999999999"
      ]
     },
     "execution_count": 11,
     "metadata": {},
     "output_type": "execute_result"
    }
   ],
   "source": [
    "24.95*0.6*60+0.75*59+3"
   ]
  },
  {
   "cell_type": "code",
   "execution_count": 3,
   "id": "278645f2",
   "metadata": {},
   "outputs": [
    {
     "name": "stdout",
     "output_type": "stream",
     "text": [
      "b\n",
      "a\n",
      "n\n",
      "a\n",
      "n\n",
      "a\n"
     ]
    }
   ],
   "source": [
    "fruit = 'banana'\n",
    "index = 0\n",
    "while index < len(fruit):\n",
    "    letter = fruit[index]\n",
    "    print(letter)\n",
    "    index = index + 1"
   ]
  },
  {
   "cell_type": "code",
   "execution_count": 4,
   "id": "27111600",
   "metadata": {},
   "outputs": [
    {
     "name": "stdout",
     "output_type": "stream",
     "text": [
      "b\n",
      "a\n",
      "n\n",
      "a\n",
      "n\n",
      "a\n"
     ]
    }
   ],
   "source": [
    "for letter in fruit:\n",
    "    print(letter)"
   ]
  },
  {
   "cell_type": "code",
   "execution_count": 5,
   "id": "314334d7",
   "metadata": {},
   "outputs": [
    {
     "name": "stdout",
     "output_type": "stream",
     "text": [
      "3\n"
     ]
    }
   ],
   "source": [
    "word = 'banana'\n",
    "count = 0\n",
    "for letter in word:\n",
    "    if letter == 'a':\n",
    "        count = count + 1\n",
    "print(count)"
   ]
  },
  {
   "cell_type": "code",
   "execution_count": 11,
   "id": "d32e80ee",
   "metadata": {},
   "outputs": [
    {
     "data": {
      "text/plain": [
       "3"
      ]
     },
     "execution_count": 11,
     "metadata": {},
     "output_type": "execute_result"
    }
   ],
   "source": [
    "word.count('a')"
   ]
  },
  {
   "cell_type": "code",
   "execution_count": 18,
   "id": "a09a6f9e",
   "metadata": {},
   "outputs": [],
   "source": [
    "word = 'redivider'"
   ]
  },
  {
   "cell_type": "code",
   "execution_count": 19,
   "id": "6e987819",
   "metadata": {},
   "outputs": [
    {
     "data": {
      "text/plain": [
       "True"
      ]
     },
     "execution_count": 19,
     "metadata": {},
     "output_type": "execute_result"
    }
   ],
   "source": [
    "word == word [::-1]"
   ]
  },
  {
   "cell_type": "code",
   "execution_count": 20,
   "id": "c4a2ba2b",
   "metadata": {},
   "outputs": [],
   "source": [
    "def is_palindrome (word):\n",
    "    return word == word [::-1]"
   ]
  },
  {
   "cell_type": "code",
   "execution_count": 22,
   "id": "c9b1a518",
   "metadata": {},
   "outputs": [
    {
     "data": {
      "text/plain": [
       "True"
      ]
     },
     "execution_count": 22,
     "metadata": {},
     "output_type": "execute_result"
    }
   ],
   "source": [
    "is_palindrome ('redivider')"
   ]
  },
  {
   "cell_type": "code",
   "execution_count": 23,
   "id": "5f4bdd00",
   "metadata": {},
   "outputs": [],
   "source": [
    "def any_lowercase1(s):\n",
    "    for c in s:\n",
    "        if c.islower():\n",
    "            return True\n",
    "        else:\n",
    "            return False"
   ]
  },
  {
   "cell_type": "code",
   "execution_count": 37,
   "id": "86627749",
   "metadata": {},
   "outputs": [
    {
     "data": {
      "text/plain": [
       "True"
      ]
     },
     "execution_count": 37,
     "metadata": {},
     "output_type": "execute_result"
    }
   ],
   "source": [
    "any_lowercase1 ('redAvider')"
   ]
  },
  {
   "cell_type": "code",
   "execution_count": 25,
   "id": "ca90f2f6",
   "metadata": {},
   "outputs": [
    {
     "data": {
      "text/plain": [
       "False"
      ]
     },
     "execution_count": 25,
     "metadata": {},
     "output_type": "execute_result"
    }
   ],
   "source": [
    "any_lowercase1 ('RedIvider')"
   ]
  },
  {
   "cell_type": "code",
   "execution_count": 26,
   "id": "09af0afc",
   "metadata": {},
   "outputs": [
    {
     "name": "stdout",
     "output_type": "stream",
     "text": [
      "r\n",
      "e\n",
      "d\n",
      "i\n",
      "v\n",
      "i\n",
      "d\n",
      "e\n",
      "r\n"
     ]
    }
   ],
   "source": [
    "for c in word:\n",
    "    print (c)"
   ]
  },
  {
   "cell_type": "code",
   "execution_count": 1,
   "id": "0ce90b39",
   "metadata": {},
   "outputs": [],
   "source": [
    "# only returns satutes of the first letter"
   ]
  },
  {
   "cell_type": "code",
   "execution_count": 13,
   "id": "c6e478c6",
   "metadata": {},
   "outputs": [],
   "source": [
    "# always returns true because it only asks for leter \"c\""
   ]
  },
  {
   "cell_type": "code",
   "execution_count": 14,
   "id": "6ae980c8",
   "metadata": {},
   "outputs": [],
   "source": [
    "# it always return the statues of the last letter of the word"
   ]
  },
  {
   "cell_type": "code",
   "execution_count": 19,
   "id": "d33f19d4",
   "metadata": {},
   "outputs": [],
   "source": [
    "# finds if there is at least one lower case letter in the whole word"
   ]
  },
  {
   "cell_type": "code",
   "execution_count": 20,
   "id": "30a60a25",
   "metadata": {},
   "outputs": [],
   "source": [
    "# only returns true if all the letters are lower case, and false if there is at least one upper case"
   ]
  },
  {
   "cell_type": "code",
   "execution_count": 21,
   "id": "4de2a91f",
   "metadata": {},
   "outputs": [
    {
     "data": {
      "text/plain": [
       "97"
      ]
     },
     "execution_count": 21,
     "metadata": {},
     "output_type": "execute_result"
    }
   ],
   "source": [
    "ord('a')"
   ]
  },
  {
   "cell_type": "code",
   "execution_count": 35,
   "id": "62a43a8e",
   "metadata": {},
   "outputs": [
    {
     "name": "stdout",
     "output_type": "stream",
     "text": [
      "Enigma\n",
      "Oxsqwk\n"
     ]
    }
   ],
   "source": [
    "def rotate_word(mesg,code):\n",
    "    coded = ''\n",
    "    for l in mesg:\n",
    "        if l.islower():\n",
    "            ASCII=ord(l)\n",
    "            ASCII=ASCII+code\n",
    "            if ASCII > 122:\n",
    "                coded = coded + chr(96+ASCII%122)\n",
    "            else:\n",
    "                coded = coded + chr(ASCII)\n",
    "        else:        \n",
    "            if l.isupper():\n",
    "                ASCII=ord(l)\n",
    "                ASCII=ASCII+code\n",
    "                if ASCII > 90:\n",
    "                    coded = coded + chr(64+ASCII%90)\n",
    "                else:\n",
    "                    coded = coded + chr(ASCII)\n",
    "            else:\n",
    "                coded=coded+l\n",
    "    return coded\n",
    "\n",
    "mensaje='Enigma'\n",
    "print(mensaje)\n",
    "print(rotate_word(mensaje,10))"
   ]
  },
  {
   "cell_type": "code",
   "execution_count": null,
   "id": "59ae9b69",
   "metadata": {},
   "outputs": [],
   "source": []
  }
 ],
 "metadata": {
  "kernelspec": {
   "display_name": "Python 3 (ipykernel)",
   "language": "python",
   "name": "python3"
  },
  "language_info": {
   "codemirror_mode": {
    "name": "ipython",
    "version": 3
   },
   "file_extension": ".py",
   "mimetype": "text/x-python",
   "name": "python",
   "nbconvert_exporter": "python",
   "pygments_lexer": "ipython3",
   "version": "3.9.7"
  }
 },
 "nbformat": 4,
 "nbformat_minor": 5
}
